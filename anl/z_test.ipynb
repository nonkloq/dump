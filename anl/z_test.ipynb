{
 "cells": [
  {
   "cell_type": "code",
   "execution_count": 25,
   "id": "1dfc350d",
   "metadata": {},
   "outputs": [],
   "source": [
    "import numpy as np\n",
    "from scipy import stats"
   ]
  },
  {
   "cell_type": "markdown",
   "id": "548d4c1a",
   "metadata": {},
   "source": [
    "# Z- Test"
   ]
  },
  {
   "cell_type": "code",
   "execution_count": 2,
   "id": "780da763",
   "metadata": {},
   "outputs": [],
   "source": [
    "# IQ of 20 patients\n",
    "data = np.array([88, 92, 94, 94, 96, 97, 97, 97, 99, 99,105, 109, 109, 109, 110, 112, 112, 113, 114, 115])"
   ]
  },
  {
   "cell_type": "markdown",
   "id": "d8b2a369",
   "metadata": {},
   "source": [
    "## One Sample Z-test\n",
    "\n",
    "### Research Problem\n",
    "\n",
    "Does the mean IQ of 20 patients differ from the global average [85-115] 100?. \n",
    "\n",
    "### Statistical hypothesis\n",
    "$$\n",
    "H_0: 85 \\le \\mu \\le 115 \\\\\n",
    "H_1: \\mu < 85 ~or~ \\mu > 115\n",
    "$$\n",
    "### Decision Rule\n",
    "Reject $H_0$ at the .05 level of significance if $z ≥ 1.96$ or if $z ≤ –1.96$.\n",
    "\n",
    "### Calculation\n",
    "$$\n",
    "z = \\frac {\\bar X - \\mu_{hyp}} {\\sigma_{\\bar X}}\n",
    "$$"
   ]
  },
  {
   "cell_type": "code",
   "execution_count": 3,
   "id": "117363e7",
   "metadata": {},
   "outputs": [],
   "source": [
    "# Standard Error of the mean\n",
    "# SEM = lambda X: X.std()/np.sqrt(len(X))\n",
    "# Mean of the Sampling Distribution\n",
    "# \\mu_x = \\mu"
   ]
  },
  {
   "cell_type": "code",
   "execution_count": 4,
   "id": "a75bb94b",
   "metadata": {},
   "outputs": [],
   "source": [
    "def z_score(X,mu,sigma):\n",
    "    sigma_x = sigma/np.sqrt(len(X))\n",
    "    return (X.mean() - mu)/sigma_x"
   ]
  },
  {
   "cell_type": "code",
   "execution_count": 5,
   "id": "487143b8",
   "metadata": {},
   "outputs": [],
   "source": [
    "# std of IQ 15 or 16\n",
    "z = z_score(data,100,15)"
   ]
  },
  {
   "cell_type": "code",
   "execution_count": 6,
   "id": "b2fede1b",
   "metadata": {},
   "outputs": [
    {
     "data": {
      "text/plain": [
       "(False, 0.9093343108499137)"
      ]
     },
     "execution_count": 6,
     "metadata": {},
     "output_type": "execute_result"
    }
   ],
   "source": [
    "z >= 1.96 or z<= -1.96,z"
   ]
  },
  {
   "cell_type": "markdown",
   "id": "7a2802b5",
   "metadata": {},
   "source": [
    "### Decision\n",
    "Accept $H_0$ at the .05 level of significance because z =0.90.\n",
    "### Interpretation\n",
    "The Mean IQ of 20 patients is does not differ from the average IQ 85-115."
   ]
  },
  {
   "cell_type": "markdown",
   "id": "f2926c6a",
   "metadata": {},
   "source": [
    "### Two Sample Z test\n",
    "$$\n",
    "Z = \\frac {(x̄_1 - x̄_2) - (μ_1 - μ_2)} {\\sqrt {(σ_1^2 / n_1) + (σ_2^2 / n_2)}}\n",
    "$$\n",
    "where:\n",
    "- x̄_1 and x̄_2 are the sample means of the two populations\n",
    "- μ_1 and μ_2 are the hypothesized population means under the null hypothesis\n",
    "- σ_1 and σ_2 are the population standard deviations of the two populations\n",
    "- n_1 and n_2 are the sample sizes of the two populations\n",
    "> another formula for $\\mu_1$ $=$ or $\\ne$ $\\mu_2$"
   ]
  }
 ],
 "metadata": {
  "kernelspec": {
   "display_name": "Python 3 (ipykernel)",
   "language": "python",
   "name": "python3"
  },
  "language_info": {
   "codemirror_mode": {
    "name": "ipython",
    "version": 3
   },
   "file_extension": ".py",
   "mimetype": "text/x-python",
   "name": "python",
   "nbconvert_exporter": "python",
   "pygments_lexer": "ipython3",
   "version": "3.10.9"
  }
 },
 "nbformat": 4,
 "nbformat_minor": 5
}
