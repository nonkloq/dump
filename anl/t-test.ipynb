{
 "cells": [
  {
   "cell_type": "code",
   "execution_count": 1,
   "id": "db108c6a",
   "metadata": {},
   "outputs": [],
   "source": [
    "import numpy as np\n",
    "from scipy import stats"
   ]
  },
  {
   "cell_type": "markdown",
   "id": "11dcf751",
   "metadata": {},
   "source": [
    "# t -Test"
   ]
  },
  {
   "attachments": {},
   "cell_type": "markdown",
   "id": "14e2b718",
   "metadata": {},
   "source": [
    "## t-Test for one sample\n",
    "\n",
    "### Research Problem\n",
    "The HR department of the company believes that the average salary of employees is $60,000 per year. Conduct a one-sample t-test to determine whether there is enough evidence to support this claim. Use a significance level of 0.05."
   ]
  },
  {
   "cell_type": "markdown",
   "id": "5d4afd77",
   "metadata": {},
   "source": [
    "###  Data Set\n",
    "salaries of employees in a company (thousands of dollars per year)"
   ]
  },
  {
   "cell_type": "code",
   "execution_count": 4,
   "id": "645bde5c",
   "metadata": {},
   "outputs": [],
   "source": [
    "data = np.array([47, 52, 58, 62, 65, 48, 50, 51, 53, 55, 58, 61, 63, 55, 56, 49, 50, 54, 57, 59])"
   ]
  },
  {
   "cell_type": "markdown",
   "id": "d9b7b636",
   "metadata": {},
   "source": [
    "### Statistical hypothesis\n",
    "$$\n",
    "H_0: \\mu = 60 \\\\\n",
    "H_1: \\mu \\ne 60\n",
    "$$\n"
   ]
  },
  {
   "cell_type": "code",
   "execution_count": 10,
   "id": "13a631ab",
   "metadata": {},
   "outputs": [],
   "source": [
    "mu_hyp = 60"
   ]
  },
  {
   "cell_type": "code",
   "execution_count": 5,
   "id": "99dd4d08",
   "metadata": {},
   "outputs": [],
   "source": [
    "alpha = 0.05\n",
    "df = len(data)-1"
   ]
  },
  {
   "cell_type": "code",
   "execution_count": 7,
   "id": "fff31828",
   "metadata": {},
   "outputs": [
    {
     "data": {
      "text/plain": [
       "2.093024054408263"
      ]
     },
     "execution_count": 7,
     "metadata": {},
     "output_type": "execute_result"
    }
   ],
   "source": [
    "# this is a two tailed test\n",
    "t_star = stats.t.ppf(1-alpha/2,df)\n",
    "t_star"
   ]
  },
  {
   "attachments": {
    "image.png": {
     "image/png": "[encoded data removed]"
    }
   },
   "cell_type": "markdown",
   "id": "f47e2bb3",
   "metadata": {},
   "source": [
    "### Decision Rule\n",
    "Reject $H_0$ at the .05 level of significance if $t ≥ 2.093$ or if $t ≤ –2.093$.\n",
    "\n",
    "### Calculation\n",
    "$$\n",
    "t = \\frac {\\bar X - \\mu_{hyp}} {s_{\\bar X}}\n",
    "$$\n",
    "where,\n",
    "Estimated standard error of the mean,\n",
    "$$\n",
    "s_{\\bar x} = \\frac {s = \\sqrt \\frac {SS} {df}} {\\sqrt n}\n",
    "$$\n",
    "and,\n",
    "![image.png](attachment:image.png)"
   ]
  },
  {
   "cell_type": "code",
   "execution_count": 8,
   "id": "31f93feb",
   "metadata": {},
   "outputs": [],
   "source": [
    "def t_score(X,mu):\n",
    "    X_bar = X.mean()\n",
    "    n = len(X)\n",
    "    SS= np.sum((X-X_bar)**2)\n",
    "    SS = np.sqrt(SS/(n-1))\n",
    "    \n",
    "    sx = SS / np.sqrt(n)\n",
    "    return (X_bar - mu) / sx"
   ]
  },
  {
   "cell_type": "code",
   "execution_count": 11,
   "id": "0f306ee0",
   "metadata": {},
   "outputs": [],
   "source": [
    "t = t_score(data,mu_hyp)"
   ]
  },
  {
   "cell_type": "code",
   "execution_count": 15,
   "id": "f14c519f",
   "metadata": {},
   "outputs": [
    {
     "data": {
      "text/plain": [
       "(True, -4.159846966351917)"
      ]
     },
     "execution_count": 15,
     "metadata": {},
     "output_type": "execute_result"
    }
   ],
   "source": [
    "t >=t_star or t<= -t_star,t"
   ]
  },
  {
   "cell_type": "code",
   "execution_count": 47,
   "id": "a6859c99",
   "metadata": {},
   "outputs": [
    {
     "data": {
      "text/plain": [
       "(False, 1.9045970386175638e-65)"
      ]
     },
     "execution_count": 47,
     "metadata": {},
     "output_type": "execute_result"
    }
   ],
   "source": [
    "# p-value for two-tailed test\n",
    "p = stats.t.sf(abs(t), df=df)*2\n",
    "p>alpha,p"
   ]
  },
  {
   "cell_type": "markdown",
   "id": "04767f45",
   "metadata": {},
   "source": [
    "### Decision\n",
    "Reject $H_0$ at the .05 level of significance because t =-4.15, and p=0.0005 not greater than alpha.\n",
    "\n",
    "### Interpretation\n",
    "The average salary is not $60,000 and there is enough evidence to reject the null hypothesis."
   ]
  },
  {
   "cell_type": "markdown",
   "id": "3d858463",
   "metadata": {},
   "source": [
    "## Two Sample t-Test\n"
   ]
  },
  {
   "cell_type": "markdown",
   "id": "0f2ebbf6",
   "metadata": {},
   "source": [
    "### Research Problem\n",
    "Does the mean height of men differ significantly from the mean height of women in a particular population?\n",
    "\n",
    "### Data set\n",
    "The heights (in inches) of 100 randomly selected men and 100 randomly selected women "
   ]
  },
  {
   "cell_type": "code",
   "execution_count": 18,
   "id": "39bc6eab",
   "metadata": {},
   "outputs": [],
   "source": [
    "Men = np.array([68, 70, 72, 66, 74, 69, 71, 70, 67, 71, 73, 72, 69, 68, 70, 71, 68, 72, 70, 69, 71, 73, 68, 72, 71, 70, 67, 73, 69, 70, 72, 68, 70, 69, 71, 73, 67, 72, 71, 69, 70, 68, 72, 73, 70, 69, 71, 68, 72, 70, 71, 67, 73, 69, 70, 72, 68, 70, 69, 71, 73, 67, 72, 71, 69, 70, 68, 72, 73, 70, 69, 71, 68, 72, 70, 71, 67, 73, 69, 70, 72, 68, 70, 69, 71, 73, 67, 72, 71, 69, 70, 68, 72, 73, 70, 69, 71])\n",
    "Women = np.array([64, 63, 66, 67, 62, 65, 63, 64, 66, 62, 65, 63, 64, 66, 62, 65, 63, 64, 66, 62, 65, 63, 64, 66, 62, 65, 63, 64, 66, 62, 65, 63, 64, 66, 62, 65, 63, 64, 66, 62, 65, 63, 64, 66, 62, 65, 63, 64, 66, 62, 65, 63, 64, 66, 62, 65, 63, 64, 66, 62, 65, 63, 64, 66, 62, 65, 63, 64, 66, 62, 65, 63, 64, 66, 62, 65, 63, 64, 66, 62, 65, 63, 64, 66, 62, 65, 63, 64, 66, 62, 65, 63, 64, 66, 62, 65, 63, 64, 66])"
   ]
  },
  {
   "cell_type": "markdown",
   "id": "704e9f9b",
   "metadata": {},
   "source": [
    "\n",
    "### Statistical hypothesis\n",
    "$$\n",
    "H_0: \\mu_1 - \\mu_2 >0 \\\\\n",
    "H_1: \\mu_1 - \\mu_2 \\le 0\n",
    "$$\n"
   ]
  },
  {
   "cell_type": "code",
   "execution_count": 19,
   "id": "8d6ed790",
   "metadata": {},
   "outputs": [],
   "source": [
    "alpha = 0.01\n",
    "df = len(Men) + len(Women) -2 "
   ]
  },
  {
   "cell_type": "code",
   "execution_count": 25,
   "id": "7bee48c5",
   "metadata": {},
   "outputs": [
    {
     "data": {
      "text/plain": [
       "-2.3457228057724366"
      ]
     },
     "execution_count": 25,
     "metadata": {},
     "output_type": "execute_result"
    }
   ],
   "source": [
    "# this is a left-tailed test\n",
    "t_star = stats.t.ppf(q=alpha,df=df)\n",
    "t_star"
   ]
  },
  {
   "attachments": {
    "image-2.png": {
     "image/png": "[encoded data removed]"
    },
    "image.png": {
     "image/png": "[encoded data removed]"
    }
   },
   "cell_type": "markdown",
   "id": "afc0d1e5",
   "metadata": {},
   "source": [
    "\n",
    "### Decision Rule\n",
    "Reject $H_0$ at the .01 level of significance if $t \\le -2.345$\n",
    "\n",
    "\n",
    "### Calculation\n",
    "$$\n",
    "t = \\frac {(\\bar X_1 - \\bar X_2 ) - (\\mu_1 - \\mu_2)} {s_{\\bar X_1- \\bar X_2}}\n",
    "$$\n",
    "where estimated standard error is,\n",
    "![image.png](attachment:image.png)\n",
    "and,\n",
    "![image-2.png](attachment:image-2.png)"
   ]
  },
  {
   "cell_type": "code",
   "execution_count": 35,
   "id": "6157f45e",
   "metadata": {},
   "outputs": [],
   "source": [
    "def t_score_2(X1,X2,mu1,mu2):\n",
    "    n1 = len(X1)\n",
    "    n2 = len(X2)\n",
    "    df = n1+n2 -2\n",
    "    \n",
    "    X1_ = X1.mean()\n",
    "    X2_ = X2.mean()\n",
    "    s1 = X1.std()\n",
    "    s2 = X2.std()\n",
    "    \n",
    "    sp = np.sqrt(\n",
    "       ( ( (n1-1)*s1**2 ) + ( (n2-1)*s2**2) ) /df\n",
    "    )\n",
    "    \n",
    "    sx1x2 = sp * np.sqrt(1/n1 + 1/n2)\n",
    "    return ((X1_ - X2_) - (mu1 - mu2)) / sx1x2"
   ]
  },
  {
   "cell_type": "code",
   "execution_count": 44,
   "id": "545ece04",
   "metadata": {},
   "outputs": [],
   "source": [
    "t = t_score_2(Men,Women,0,0)"
   ]
  },
  {
   "cell_type": "code",
   "execution_count": 45,
   "id": "2e4178e7",
   "metadata": {},
   "outputs": [
    {
     "data": {
      "text/plain": [
       "(False, 26.125180108395675)"
      ]
     },
     "execution_count": 45,
     "metadata": {},
     "output_type": "execute_result"
    }
   ],
   "source": [
    "t<= t_star,t"
   ]
  },
  {
   "cell_type": "code",
   "execution_count": 57,
   "id": "57e6d476",
   "metadata": {},
   "outputs": [
    {
     "data": {
      "text/plain": [
       "Ttest_indResult(statistic=25.991210934513738, pvalue=4.1418749145848964e-65)"
      ]
     },
     "execution_count": 57,
     "metadata": {},
     "output_type": "execute_result"
    }
   ],
   "source": [
    "stats.ttest_ind(Men,Women,0,True)"
   ]
  },
  {
   "cell_type": "code",
   "execution_count": 53,
   "id": "1b749514",
   "metadata": {},
   "outputs": [
    {
     "data": {
      "text/plain": [
       "(False, 9.522985193087819e-66)"
      ]
     },
     "execution_count": 53,
     "metadata": {},
     "output_type": "execute_result"
    }
   ],
   "source": [
    "#p-value for left-tailed test\n",
    "p = stats.t.sf(abs(t), df=df)\n",
    "p>alpha,p"
   ]
  },
  {
   "cell_type": "markdown",
   "id": "182fef6b",
   "metadata": {},
   "source": [
    "### Decision\n",
    "Retain $H_0$ at the .01 level of significance because t =26.1251.\n",
    "\n",
    "### Interpretation\n",
    "There is evidence that the mean height of men differ significantly from the mean height of women in a particular population at 0.01 level of significance."
   ]
  }
 ],
 "metadata": {
  "kernelspec": {
   "display_name": "Python 3 (ipykernel)",
   "language": "python",
   "name": "python3"
  },
  "language_info": {
   "codemirror_mode": {
    "name": "ipython",
    "version": 3
   },
   "file_extension": ".py",
   "mimetype": "text/x-python",
   "name": "python",
   "nbconvert_exporter": "python",
   "pygments_lexer": "ipython3",
   "version": "3.10.9"
  }
 },
 "nbformat": 4,
 "nbformat_minor": 5
}
