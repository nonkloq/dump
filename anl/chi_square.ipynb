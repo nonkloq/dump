{
 "cells": [
  {
   "cell_type": "code",
   "execution_count": 1,
   "id": "a9a64508",
   "metadata": {},
   "outputs": [],
   "source": [
    "import numpy as np\n",
    "from scipy import stats"
   ]
  },
  {
   "cell_type": "markdown",
   "id": "bc7f9a2a",
   "metadata": {},
   "source": [
    "# One Variable $\\chi^2$ Test (Goodness of fit)"
   ]
  },
  {
   "cell_type": "markdown",
   "id": "6128d157",
   "metadata": {},
   "source": [
    "### Dataset\n",
    "A researcher wants to investigate whether the distribution of blood types among a population of 100 individuals matches the expected distribution based on the ABO blood group system. The expected distribution of blood types in the population based on the ABO system is as follows:\n",
    "\n",
    "    [O,A,B,AB]"
   ]
  },
  {
   "cell_type": "code",
   "execution_count": 2,
   "id": "11c2838b",
   "metadata": {},
   "outputs": [],
   "source": [
    "expected = np.array([ .45, .4, .11, .04])"
   ]
  },
  {
   "cell_type": "markdown",
   "id": "a53bff79",
   "metadata": {},
   "source": [
    "The observed distribution of blood types among the 100 individuals is:"
   ]
  },
  {
   "cell_type": "code",
   "execution_count": 3,
   "id": "9a2fe563",
   "metadata": {},
   "outputs": [],
   "source": [
    "observed = np.array([.48,.32,.16,.04])"
   ]
  },
  {
   "cell_type": "markdown",
   "id": "5377ceba",
   "metadata": {},
   "source": [
    "### Research Problem\n",
    "Is the distribution of blood types in the population significantly different from the expected distribution based on the ABO blood group system?\n",
    "\n",
    "### Statistical Hypotheses\n",
    "$$\n",
    "H_0: P_O .45; P_A .4; P_B .11; P_{AB} .04 \\\\\n",
    "H_1: H_0 ~is~ false\n",
    "$$"
   ]
  },
  {
   "cell_type": "code",
   "execution_count": 4,
   "id": "1a984eb1",
   "metadata": {},
   "outputs": [],
   "source": [
    "alpha = 0.05\n",
    "df = 3 # k-1->4-1"
   ]
  },
  {
   "cell_type": "code",
   "execution_count": 5,
   "id": "5f2798cc",
   "metadata": {},
   "outputs": [
    {
     "data": {
      "text/plain": [
       "7.814727903251179"
      ]
     },
     "execution_count": 5,
     "metadata": {},
     "output_type": "execute_result"
    }
   ],
   "source": [
    "Chi_critical =stats.chi2.ppf(1-alpha,df)\n",
    "Chi_critical"
   ]
  },
  {
   "attachments": {
    "image.png": {
     "image/png": "[encoded data removed]"
    }
   },
   "cell_type": "markdown",
   "id": "00f8b78e",
   "metadata": {},
   "source": [
    "### Decision Rule\n",
    "Reject $H_0$ at the .05 level of significance if $χ2 ≥ 7.814$\n",
    "\n",
    "### Calculation\n",
    "\n",
    "$$\n",
    "f_e = \n",
    "(expected~proportion)(total~ sample~ size)\n",
    "$$\n",
    "![image.png](attachment:image.png)"
   ]
  },
  {
   "cell_type": "code",
   "execution_count": 6,
   "id": "1d292e79",
   "metadata": {},
   "outputs": [],
   "source": [
    "f_e = expected * 100\n",
    "f_o = observed * 100"
   ]
  },
  {
   "cell_type": "code",
   "execution_count": 7,
   "id": "8dc517c6",
   "metadata": {},
   "outputs": [],
   "source": [
    "Chi_2 = np.sum((f_o - f_e)**2/f_e)"
   ]
  },
  {
   "cell_type": "code",
   "execution_count": 8,
   "id": "8a447501",
   "metadata": {},
   "outputs": [
    {
     "data": {
      "text/plain": [
       "(False, 4.072727272727273)"
      ]
     },
     "execution_count": 8,
     "metadata": {},
     "output_type": "execute_result"
    }
   ],
   "source": [
    "Chi_2 >= Chi_critical,Chi_2"
   ]
  },
  {
   "cell_type": "markdown",
   "id": "f68435cc",
   "metadata": {},
   "source": [
    "### Decision\n",
    "Retain $H_0$ at the .05 level of significance because χ2 = 6.43.\n",
    "\n",
    "### Interpretation\n",
    "the distribution of blood types in the population does not differs from the expected distribution based on the ABO blood group system."
   ]
  },
  {
   "cell_type": "markdown",
   "id": "ae6f21ac",
   "metadata": {},
   "source": [
    "# Two Variable $\\chi^2$ Test"
   ]
  },
  {
   "cell_type": "markdown",
   "id": "63b734ad",
   "metadata": {},
   "source": [
    "### Dataset\n",
    "Imagine you have conducted a survey of 1000 people, asking them whether they prefer tea or coffee and whether they are early birds or night owls. The results are as follows:\n",
    "\n",
    "|  | Early birds | Night owls |\n",
    "|----------|------------|------------|\n",
    "| Tea      | 400        | 100        |\n",
    "| Coffee | 300        | 200        |\n"
   ]
  },
  {
   "cell_type": "code",
   "execution_count": 9,
   "id": "0543a795",
   "metadata": {},
   "outputs": [],
   "source": [
    "data = np.array([[400, 100], [300, 200]])"
   ]
  },
  {
   "cell_type": "markdown",
   "id": "cbc5fcba",
   "metadata": {},
   "source": [
    "### Research Problem\n",
    "Is there a relationship between preferred beverage (tea or coffee) and whether someone is an early bird or a night owl?\n",
    "\n",
    "### Statistical Hypotheses\n",
    "$H_0$: There is no significant relationship between preferred beverage and whether someone is an early bird or a night owl.\n",
    "\n",
    "$H_1$: $H_0$ is false\n"
   ]
  },
  {
   "cell_type": "code",
   "execution_count": 10,
   "id": "c775c803",
   "metadata": {},
   "outputs": [],
   "source": [
    "c,r = data.shape"
   ]
  },
  {
   "cell_type": "code",
   "execution_count": 11,
   "id": "9528521f",
   "metadata": {},
   "outputs": [],
   "source": [
    "alpha = 0.05\n",
    "df = (c-1)*(r-1)"
   ]
  },
  {
   "cell_type": "code",
   "execution_count": 12,
   "id": "b242fcb8",
   "metadata": {},
   "outputs": [
    {
     "data": {
      "text/plain": [
       "3.841458820694124"
      ]
     },
     "execution_count": 12,
     "metadata": {},
     "output_type": "execute_result"
    }
   ],
   "source": [
    "Chi_critical = stats.chi2.ppf(1-alpha,df)\n",
    "Chi_critical"
   ]
  },
  {
   "attachments": {
    "image.png": {
     "image/png": "[encoded data removed]"
    }
   },
   "cell_type": "markdown",
   "id": "f8e263e6",
   "metadata": {},
   "source": [
    "### Decision Rule\n",
    "Reject $H_0$ at the .05 level of significance if $χ2 ≥ 3.841$\n",
    "\n",
    "### Calculation\n",
    "![image.png](attachment:image.png)\n"
   ]
  },
  {
   "cell_type": "code",
   "execution_count": 13,
   "id": "77951560",
   "metadata": {},
   "outputs": [],
   "source": [
    "col_tot = np.sum(data,axis=0)\n",
    "row_tot = np.sum(data,axis=1)\n",
    "grand_tot = np.sum(col_tot)"
   ]
  },
  {
   "cell_type": "code",
   "execution_count": 14,
   "id": "82dc164e",
   "metadata": {},
   "outputs": [],
   "source": [
    "f_e = row_tot.reshape(-1,1) * col_tot / grand_tot"
   ]
  },
  {
   "cell_type": "code",
   "execution_count": 15,
   "id": "c73c9222",
   "metadata": {},
   "outputs": [],
   "source": [
    "Chi_2 = np.sum((data - f_e)**2/f_e)"
   ]
  },
  {
   "cell_type": "code",
   "execution_count": 16,
   "id": "687ae55f",
   "metadata": {},
   "outputs": [
    {
     "data": {
      "text/plain": [
       "(True, 47.61904761904762)"
      ]
     },
     "execution_count": 16,
     "metadata": {},
     "output_type": "execute_result"
    }
   ],
   "source": [
    "Chi_2 >= Chi_critical,Chi_2"
   ]
  },
  {
   "cell_type": "markdown",
   "id": "08c4a29f",
   "metadata": {},
   "source": [
    "### Decision\n",
    "Reject $H_0$ at the .05 level of significance because χ2 = 47.61.\n",
    "\n",
    "### Interpretation\n",
    "the distribution of blood types in the population does not differs from the expected distribution based on the ABO blood group system."
   ]
  }
 ],
 "metadata": {
  "kernelspec": {
   "display_name": "Python 3 (ipykernel)",
   "language": "python",
   "name": "python3"
  },
  "language_info": {
   "codemirror_mode": {
    "name": "ipython",
    "version": 3
   },
   "file_extension": ".py",
   "mimetype": "text/x-python",
   "name": "python",
   "nbconvert_exporter": "python",
   "pygments_lexer": "ipython3",
   "version": "3.10.9"
  }
 },
 "nbformat": 4,
 "nbformat_minor": 5
}
