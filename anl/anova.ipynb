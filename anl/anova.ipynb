{
 "cells": [
  {
   "cell_type": "code",
   "execution_count": 1,
   "id": "c67c36fd",
   "metadata": {},
   "outputs": [],
   "source": [
    "import numpy as np\n",
    "import pandas as pd\n",
    "import statsmodels.api as sm\n",
    "from statsmodels.formula.api import ols\n",
    "from scipy import stats"
   ]
  },
  {
   "cell_type": "markdown",
   "id": "b4f0a0d0",
   "metadata": {},
   "source": [
    "# One Factor Anova F-Test"
   ]
  },
  {
   "cell_type": "markdown",
   "id": "b010a3d3",
   "metadata": {},
   "source": [
    "### Dataset\n",
    "The dataset includes the weight (in grams) of fruit from three different types of trees (A, B, and C). Each tree type has 10 observations."
   ]
  },
  {
   "cell_type": "code",
   "execution_count": 2,
   "id": "c113365f",
   "metadata": {},
   "outputs": [],
   "source": [
    "data = pd.read_csv(\"data/trees.csv\")"
   ]
  },
  {
   "cell_type": "code",
   "execution_count": 3,
   "id": "222df758",
   "metadata": {},
   "outputs": [
    {
     "data": {
      "text/html": [
       "<div>\n",
       "<style scoped>\n",
       "    .dataframe tbody tr th:only-of-type {\n",
       "        vertical-align: middle;\n",
       "    }\n",
       "\n",
       "    .dataframe tbody tr th {\n",
       "        vertical-align: top;\n",
       "    }\n",
       "\n",
       "    .dataframe thead th {\n",
       "        text-align: right;\n",
       "    }\n",
       "</style>\n",
       "<table border=\"1\" class=\"dataframe\">\n",
       "  <thead>\n",
       "    <tr style=\"text-align: right;\">\n",
       "      <th></th>\n",
       "      <th>A</th>\n",
       "      <th>B</th>\n",
       "      <th>C</th>\n",
       "    </tr>\n",
       "  </thead>\n",
       "  <tbody>\n",
       "    <tr>\n",
       "      <th>0</th>\n",
       "      <td>100</td>\n",
       "      <td>90</td>\n",
       "      <td>80</td>\n",
       "    </tr>\n",
       "    <tr>\n",
       "      <th>1</th>\n",
       "      <td>110</td>\n",
       "      <td>100</td>\n",
       "      <td>90</td>\n",
       "    </tr>\n",
       "    <tr>\n",
       "      <th>2</th>\n",
       "      <td>120</td>\n",
       "      <td>110</td>\n",
       "      <td>100</td>\n",
       "    </tr>\n",
       "    <tr>\n",
       "      <th>3</th>\n",
       "      <td>130</td>\n",
       "      <td>120</td>\n",
       "      <td>110</td>\n",
       "    </tr>\n",
       "    <tr>\n",
       "      <th>4</th>\n",
       "      <td>140</td>\n",
       "      <td>130</td>\n",
       "      <td>120</td>\n",
       "    </tr>\n",
       "    <tr>\n",
       "      <th>5</th>\n",
       "      <td>150</td>\n",
       "      <td>140</td>\n",
       "      <td>130</td>\n",
       "    </tr>\n",
       "    <tr>\n",
       "      <th>6</th>\n",
       "      <td>160</td>\n",
       "      <td>150</td>\n",
       "      <td>140</td>\n",
       "    </tr>\n",
       "    <tr>\n",
       "      <th>7</th>\n",
       "      <td>170</td>\n",
       "      <td>160</td>\n",
       "      <td>150</td>\n",
       "    </tr>\n",
       "    <tr>\n",
       "      <th>8</th>\n",
       "      <td>180</td>\n",
       "      <td>170</td>\n",
       "      <td>160</td>\n",
       "    </tr>\n",
       "    <tr>\n",
       "      <th>9</th>\n",
       "      <td>190</td>\n",
       "      <td>180</td>\n",
       "      <td>170</td>\n",
       "    </tr>\n",
       "  </tbody>\n",
       "</table>\n",
       "</div>"
      ],
      "text/plain": [
       "     A    B    C\n",
       "0  100   90   80\n",
       "1  110  100   90\n",
       "2  120  110  100\n",
       "3  130  120  110\n",
       "4  140  130  120\n",
       "5  150  140  130\n",
       "6  160  150  140\n",
       "7  170  160  150\n",
       "8  180  170  160\n",
       "9  190  180  170"
      ]
     },
     "execution_count": 3,
     "metadata": {},
     "output_type": "execute_result"
    }
   ],
   "source": [
    "data"
   ]
  },
  {
   "cell_type": "code",
   "execution_count": 4,
   "id": "603e616b",
   "metadata": {},
   "outputs": [],
   "source": [
    "data_melt = data.melt(var_name=\"tree\",value_name=\"weight\")"
   ]
  },
  {
   "cell_type": "code",
   "execution_count": 5,
   "id": "1ee17a4d",
   "metadata": {},
   "outputs": [
    {
     "data": {
      "text/html": [
       "<div>\n",
       "<style scoped>\n",
       "    .dataframe tbody tr th:only-of-type {\n",
       "        vertical-align: middle;\n",
       "    }\n",
       "\n",
       "    .dataframe tbody tr th {\n",
       "        vertical-align: top;\n",
       "    }\n",
       "\n",
       "    .dataframe thead th {\n",
       "        text-align: right;\n",
       "    }\n",
       "</style>\n",
       "<table border=\"1\" class=\"dataframe\">\n",
       "  <thead>\n",
       "    <tr style=\"text-align: right;\">\n",
       "      <th></th>\n",
       "      <th>tree</th>\n",
       "      <th>weight</th>\n",
       "    </tr>\n",
       "  </thead>\n",
       "  <tbody>\n",
       "    <tr>\n",
       "      <th>0</th>\n",
       "      <td>A</td>\n",
       "      <td>100</td>\n",
       "    </tr>\n",
       "    <tr>\n",
       "      <th>1</th>\n",
       "      <td>A</td>\n",
       "      <td>110</td>\n",
       "    </tr>\n",
       "    <tr>\n",
       "      <th>2</th>\n",
       "      <td>A</td>\n",
       "      <td>120</td>\n",
       "    </tr>\n",
       "    <tr>\n",
       "      <th>3</th>\n",
       "      <td>A</td>\n",
       "      <td>130</td>\n",
       "    </tr>\n",
       "    <tr>\n",
       "      <th>4</th>\n",
       "      <td>A</td>\n",
       "      <td>140</td>\n",
       "    </tr>\n",
       "  </tbody>\n",
       "</table>\n",
       "</div>"
      ],
      "text/plain": [
       "  tree  weight\n",
       "0    A     100\n",
       "1    A     110\n",
       "2    A     120\n",
       "3    A     130\n",
       "4    A     140"
      ]
     },
     "execution_count": 5,
     "metadata": {},
     "output_type": "execute_result"
    }
   ],
   "source": [
    "data_melt.head()"
   ]
  },
  {
   "cell_type": "markdown",
   "id": "4674d519",
   "metadata": {},
   "source": [
    "### Research problem\n",
    "Is there a significant difference in the mean weight of fruit among trees A, B, and C?\n",
    "\n",
    "### Statistical Hypothesis\n",
    "$$\n",
    "H_0 : \\mu_A = \\mu_B =\\mu_C \\\\\n",
    "H_1 : H_0 \\text{ is false.}\n",
    "$$"
   ]
  },
  {
   "cell_type": "code",
   "execution_count": 6,
   "id": "8f465361",
   "metadata": {},
   "outputs": [],
   "source": [
    "alpha = 0.05\n",
    "df_b = 3-1\n",
    "df_w = len(data)-3"
   ]
  },
  {
   "cell_type": "code",
   "execution_count": 7,
   "id": "33dfd9f3",
   "metadata": {},
   "outputs": [
    {
     "data": {
      "text/plain": [
       "4.73741412777588"
      ]
     },
     "execution_count": 7,
     "metadata": {},
     "output_type": "execute_result"
    }
   ],
   "source": [
    "# F critical = alpha | df between | df within\n",
    "F_critical = stats.f.ppf(1-alpha,df_b,df_w)\n",
    "F_critical"
   ]
  },
  {
   "cell_type": "markdown",
   "id": "5d24369e",
   "metadata": {},
   "source": [
    "### Decision Rule\n",
    "Reject $H_0$ at the .05 level of significance if F ≥ 3.354.\n",
    "\n",
    "### Calculations\n",
    "$$\n",
    "F = \\frac {MS(groups)} {MS(error)}\n",
    "$$"
   ]
  },
  {
   "cell_type": "code",
   "execution_count": 8,
   "id": "bd65acfe",
   "metadata": {},
   "outputs": [],
   "source": [
    "formula = 'weight ~ C(tree)'\n",
    "model = ols(formula, data_melt).fit()\n",
    "anova_table = sm.stats.anova_lm(model, typ=2) # Type 2 sum of squares method\n",
    "# Calculating the MS\n",
    "anova_table['mean_sq'] = anova_table['sum_sq'] / anova_table['df']\n",
    "anova_table = anova_table.reindex(columns=['sum_sq','df', 'mean_sq', 'F', 'PR(>F)'])"
   ]
  },
  {
   "cell_type": "code",
   "execution_count": 9,
   "id": "b999aba0",
   "metadata": {},
   "outputs": [
    {
     "data": {
      "text/html": [
       "<div>\n",
       "<style scoped>\n",
       "    .dataframe tbody tr th:only-of-type {\n",
       "        vertical-align: middle;\n",
       "    }\n",
       "\n",
       "    .dataframe tbody tr th {\n",
       "        vertical-align: top;\n",
       "    }\n",
       "\n",
       "    .dataframe thead th {\n",
       "        text-align: right;\n",
       "    }\n",
       "</style>\n",
       "<table border=\"1\" class=\"dataframe\">\n",
       "  <thead>\n",
       "    <tr style=\"text-align: right;\">\n",
       "      <th></th>\n",
       "      <th>sum_sq</th>\n",
       "      <th>df</th>\n",
       "      <th>mean_sq</th>\n",
       "      <th>F</th>\n",
       "      <th>PR(&gt;F)</th>\n",
       "    </tr>\n",
       "  </thead>\n",
       "  <tbody>\n",
       "    <tr>\n",
       "      <th>C(tree)</th>\n",
       "      <td>2000.0</td>\n",
       "      <td>2.0</td>\n",
       "      <td>1000.000000</td>\n",
       "      <td>1.090909</td>\n",
       "      <td>0.350263</td>\n",
       "    </tr>\n",
       "    <tr>\n",
       "      <th>Residual</th>\n",
       "      <td>24750.0</td>\n",
       "      <td>27.0</td>\n",
       "      <td>916.666667</td>\n",
       "      <td>NaN</td>\n",
       "      <td>NaN</td>\n",
       "    </tr>\n",
       "  </tbody>\n",
       "</table>\n",
       "</div>"
      ],
      "text/plain": [
       "           sum_sq    df      mean_sq         F    PR(>F)\n",
       "C(tree)    2000.0   2.0  1000.000000  1.090909  0.350263\n",
       "Residual  24750.0  27.0   916.666667       NaN       NaN"
      ]
     },
     "execution_count": 9,
     "metadata": {},
     "output_type": "execute_result"
    }
   ],
   "source": [
    "anova_table"
   ]
  },
  {
   "cell_type": "code",
   "execution_count": 10,
   "id": "307550ac",
   "metadata": {},
   "outputs": [
    {
     "data": {
      "text/plain": [
       "(False, 1.0909090909090866)"
      ]
     },
     "execution_count": 10,
     "metadata": {},
     "output_type": "execute_result"
    }
   ],
   "source": [
    "F = anova_table[\"F\"][0]\n",
    "F >= F_critical,F"
   ]
  },
  {
   "cell_type": "code",
   "execution_count": 11,
   "id": "ef4c2f21",
   "metadata": {},
   "outputs": [
    {
     "data": {
      "text/plain": [
       "(True, 0.35026289130975924)"
      ]
     },
     "execution_count": 11,
     "metadata": {},
     "output_type": "execute_result"
    }
   ],
   "source": [
    "p = anova_table[\"PR(>F)\"][0]\n",
    "p>alpha,p"
   ]
  },
  {
   "cell_type": "markdown",
   "id": "509352b8",
   "metadata": {},
   "source": [
    "### Decision\n",
    "Retain $H_0$ at the .05 level of significance because F = 1.09, and p > alpha, not enough evidence to reject it.  \n",
    "\n",
    "### Interpretation\n",
    "There is no significant difference in the mean weight of fruit among trees A, B, and C, and we do not have enough evidence to reject it."
   ]
  },
  {
   "cell_type": "markdown",
   "id": "6e00f59a",
   "metadata": {},
   "source": [
    "***"
   ]
  },
  {
   "cell_type": "markdown",
   "id": "3620a08c",
   "metadata": {},
   "source": [
    "# Two Factor Anova  three F-Test"
   ]
  },
  {
   "cell_type": "markdown",
   "id": "74c32279",
   "metadata": {},
   "source": [
    "### Dataset\n",
    "A botanist wants to know whether or not plant growth is influenced by sunlight exposure and watering frequency. She plants 30 seeds and lets them grow for two months under different conditions for sunlight exposure and watering frequency. After two months, she records the height of each plant, in inches.\n",
    "\n",
    "- water: how frequently each plant was watered: daily or weekly\n",
    "- sun: how much sunlight exposure each plant received: low, medium, or high\n",
    "- height: the height of each plant (in inches) after two months\n",
    "\n",
    "| sun | low| med| high|\n",
    "| --- | --- | --- | ---|\n",
    "| daily | $\\ddots$|$\\ddots$ |$\\ddots$ |\n",
    "| weekly | $\\ddots$|$\\ddots$ | $\\ddots$|"
   ]
  },
  {
   "cell_type": "code",
   "execution_count": 12,
   "id": "38559cae",
   "metadata": {},
   "outputs": [],
   "source": [
    "data = pd.read_csv(\"data/plants.csv\")"
   ]
  },
  {
   "cell_type": "code",
   "execution_count": 13,
   "id": "84862588",
   "metadata": {},
   "outputs": [
    {
     "data": {
      "text/html": [
       "<div>\n",
       "<style scoped>\n",
       "    .dataframe tbody tr th:only-of-type {\n",
       "        vertical-align: middle;\n",
       "    }\n",
       "\n",
       "    .dataframe tbody tr th {\n",
       "        vertical-align: top;\n",
       "    }\n",
       "\n",
       "    .dataframe thead th {\n",
       "        text-align: right;\n",
       "    }\n",
       "</style>\n",
       "<table border=\"1\" class=\"dataframe\">\n",
       "  <thead>\n",
       "    <tr style=\"text-align: right;\">\n",
       "      <th></th>\n",
       "      <th>water</th>\n",
       "      <th>sun</th>\n",
       "      <th>height</th>\n",
       "    </tr>\n",
       "  </thead>\n",
       "  <tbody>\n",
       "    <tr>\n",
       "      <th>0</th>\n",
       "      <td>daily</td>\n",
       "      <td>low</td>\n",
       "      <td>6</td>\n",
       "    </tr>\n",
       "    <tr>\n",
       "      <th>1</th>\n",
       "      <td>daily</td>\n",
       "      <td>low</td>\n",
       "      <td>6</td>\n",
       "    </tr>\n",
       "    <tr>\n",
       "      <th>2</th>\n",
       "      <td>daily</td>\n",
       "      <td>low</td>\n",
       "      <td>6</td>\n",
       "    </tr>\n",
       "    <tr>\n",
       "      <th>3</th>\n",
       "      <td>daily</td>\n",
       "      <td>low</td>\n",
       "      <td>5</td>\n",
       "    </tr>\n",
       "    <tr>\n",
       "      <th>4</th>\n",
       "      <td>daily</td>\n",
       "      <td>low</td>\n",
       "      <td>6</td>\n",
       "    </tr>\n",
       "  </tbody>\n",
       "</table>\n",
       "</div>"
      ],
      "text/plain": [
       "   water  sun  height\n",
       "0  daily  low       6\n",
       "1  daily  low       6\n",
       "2  daily  low       6\n",
       "3  daily  low       5\n",
       "4  daily  low       6"
      ]
     },
     "execution_count": 13,
     "metadata": {},
     "output_type": "execute_result"
    }
   ],
   "source": [
    "data.head()"
   ]
  },
  {
   "cell_type": "code",
   "execution_count": 14,
   "id": "9fbd609c",
   "metadata": {},
   "outputs": [],
   "source": [
    "table = pd.read_csv(\"data/plants_table.csv\").set_index(\"water\")"
   ]
  },
  {
   "cell_type": "code",
   "execution_count": 15,
   "id": "948399ab",
   "metadata": {},
   "outputs": [
    {
     "data": {
      "text/html": [
       "<div>\n",
       "<style scoped>\n",
       "    .dataframe tbody tr th:only-of-type {\n",
       "        vertical-align: middle;\n",
       "    }\n",
       "\n",
       "    .dataframe tbody tr th {\n",
       "        vertical-align: top;\n",
       "    }\n",
       "\n",
       "    .dataframe thead th {\n",
       "        text-align: right;\n",
       "    }\n",
       "</style>\n",
       "<table border=\"1\" class=\"dataframe\">\n",
       "  <thead>\n",
       "    <tr style=\"text-align: right;\">\n",
       "      <th></th>\n",
       "      <th>low</th>\n",
       "      <th>mid</th>\n",
       "      <th>high</th>\n",
       "    </tr>\n",
       "    <tr>\n",
       "      <th>water</th>\n",
       "      <th></th>\n",
       "      <th></th>\n",
       "      <th></th>\n",
       "    </tr>\n",
       "  </thead>\n",
       "  <tbody>\n",
       "    <tr>\n",
       "      <th>daily</th>\n",
       "      <td>6</td>\n",
       "      <td>5</td>\n",
       "      <td>6</td>\n",
       "    </tr>\n",
       "    <tr>\n",
       "      <th>daily</th>\n",
       "      <td>6</td>\n",
       "      <td>5</td>\n",
       "      <td>6</td>\n",
       "    </tr>\n",
       "    <tr>\n",
       "      <th>daily</th>\n",
       "      <td>6</td>\n",
       "      <td>6</td>\n",
       "      <td>7</td>\n",
       "    </tr>\n",
       "    <tr>\n",
       "      <th>daily</th>\n",
       "      <td>5</td>\n",
       "      <td>4</td>\n",
       "      <td>8</td>\n",
       "    </tr>\n",
       "    <tr>\n",
       "      <th>daily</th>\n",
       "      <td>6</td>\n",
       "      <td>5</td>\n",
       "      <td>7</td>\n",
       "    </tr>\n",
       "    <tr>\n",
       "      <th>weekly</th>\n",
       "      <td>3</td>\n",
       "      <td>4</td>\n",
       "      <td>5</td>\n",
       "    </tr>\n",
       "    <tr>\n",
       "      <th>weekly</th>\n",
       "      <td>4</td>\n",
       "      <td>4</td>\n",
       "      <td>6</td>\n",
       "    </tr>\n",
       "    <tr>\n",
       "      <th>weekly</th>\n",
       "      <td>4</td>\n",
       "      <td>4</td>\n",
       "      <td>6</td>\n",
       "    </tr>\n",
       "    <tr>\n",
       "      <th>weekly</th>\n",
       "      <td>4</td>\n",
       "      <td>4</td>\n",
       "      <td>7</td>\n",
       "    </tr>\n",
       "    <tr>\n",
       "      <th>weekly</th>\n",
       "      <td>5</td>\n",
       "      <td>4</td>\n",
       "      <td>8</td>\n",
       "    </tr>\n",
       "  </tbody>\n",
       "</table>\n",
       "</div>"
      ],
      "text/plain": [
       "        low  mid  high\n",
       "water                 \n",
       "daily     6    5     6\n",
       "daily     6    5     6\n",
       "daily     6    6     7\n",
       "daily     5    4     8\n",
       "daily     6    5     7\n",
       "weekly    3    4     5\n",
       "weekly    4    4     6\n",
       "weekly    4    4     6\n",
       "weekly    4    4     7\n",
       "weekly    5    4     8"
      ]
     },
     "execution_count": 15,
     "metadata": {},
     "output_type": "execute_result"
    }
   ],
   "source": [
    "table"
   ]
  },
  {
   "cell_type": "markdown",
   "id": "45080ad5",
   "metadata": {},
   "source": [
    "### Research problem\n",
    "Determine if watering frequency and sunlight exposure have a significant effect on plant growth, and to determine if there is any interaction effect between watering frequency and sunlight exposure.\n",
    "\n",
    "### Statistical Hypothesis\n",
    "\n",
    "$H_0$: The plant growth is not influenced by either watering frequency or sunlight exposure or their interaction.\n",
    "\n",
    "$$\n",
    "H_0: \\mu_{weekly} = \\mu_{daily}  \\\\\n",
    "H_0: \\mu_{high} = \\mu_{med} = \\mu_{low} \\\\\n",
    "H_0: no~interaction \\\\\n",
    "H_1: H_0~is~not~true.\n",
    "$$"
   ]
  },
  {
   "cell_type": "code",
   "execution_count": 16,
   "id": "5b54b21c",
   "metadata": {},
   "outputs": [],
   "source": [
    "alpha = 0.05\n",
    "c = table.shape[1]\n",
    "r = 2\n",
    "N = len(data)"
   ]
  },
  {
   "cell_type": "code",
   "execution_count": 17,
   "id": "66af6889",
   "metadata": {},
   "outputs": [
    {
     "data": {
      "text/plain": [
       "{'c': 2, 'r': 1, 'w': 24, 'i': 2}"
      ]
     },
     "execution_count": 17,
     "metadata": {},
     "output_type": "execute_result"
    }
   ],
   "source": [
    "df = {\n",
    "    \"c\" : c-1,\n",
    "    \"r\": r-1,\n",
    "    \"w\": N - c*r,\n",
    "    \"i\":  (c-1) * (r-1),\n",
    "}\n",
    "df"
   ]
  },
  {
   "cell_type": "code",
   "execution_count": 18,
   "id": "10921c31",
   "metadata": {},
   "outputs": [
    {
     "data": {
      "text/plain": [
       "{'column': 3.4028261053501945,\n",
       " 'row': 4.259677272690231,\n",
       " 'interaction': 3.4028261053501945}"
      ]
     },
     "execution_count": 18,
     "metadata": {},
     "output_type": "execute_result"
    }
   ],
   "source": [
    "F_criticals = {\n",
    "    \"column\": stats.f.ppf(1-alpha,df[\"c\"],df[\"w\"]),\n",
    "    \"row\": stats.f.ppf(1-alpha,df[\"r\"],df[\"w\"]),\n",
    "    \"interaction\": stats.f.ppf(1-alpha,df[\"i\"],df[\"w\"]),\n",
    "}\n",
    "F_criticals"
   ]
  },
  {
   "attachments": {
    "image.png": {
     "image/png": "[encoded data removed]"
    }
   },
   "cell_type": "markdown",
   "id": "f3be1f8b",
   "metadata": {},
   "source": [
    "### Decision Rule\n",
    "Reject $H_0$ at the .05 level of significance if $F_c$ or $F_i$ ≥ 3.40 and if $F_{r} \\ge 4.25$.\n",
    "\n",
    "### Calculations\n",
    "![image.png](attachment:image.png)"
   ]
  },
  {
   "cell_type": "code",
   "execution_count": 19,
   "id": "9dc0c139",
   "metadata": {},
   "outputs": [],
   "source": [
    "model = ols('height ~ C(water) + C(sun) + C(water):C(sun)', data=data).fit()\n",
    "anova_table = sm.stats.anova_lm(model, typ=2)"
   ]
  },
  {
   "cell_type": "code",
   "execution_count": 20,
   "id": "3c6a7f3b",
   "metadata": {},
   "outputs": [],
   "source": [
    "# Calculating the MS\n",
    "anova_table['mean_sq'] = anova_table['sum_sq'] / anova_table['df']\n",
    "anova_table = anova_table.reindex(columns=['sum_sq','df', 'mean_sq', 'F', 'PR(>F)'])"
   ]
  },
  {
   "cell_type": "code",
   "execution_count": 21,
   "id": "55c0d583",
   "metadata": {},
   "outputs": [
    {
     "data": {
      "text/html": [
       "<div>\n",
       "<style scoped>\n",
       "    .dataframe tbody tr th:only-of-type {\n",
       "        vertical-align: middle;\n",
       "    }\n",
       "\n",
       "    .dataframe tbody tr th {\n",
       "        vertical-align: top;\n",
       "    }\n",
       "\n",
       "    .dataframe thead th {\n",
       "        text-align: right;\n",
       "    }\n",
       "</style>\n",
       "<table border=\"1\" class=\"dataframe\">\n",
       "  <thead>\n",
       "    <tr style=\"text-align: right;\">\n",
       "      <th></th>\n",
       "      <th>sum_sq</th>\n",
       "      <th>df</th>\n",
       "      <th>mean_sq</th>\n",
       "      <th>F</th>\n",
       "      <th>PR(&gt;F)</th>\n",
       "    </tr>\n",
       "  </thead>\n",
       "  <tbody>\n",
       "    <tr>\n",
       "      <th>C(water)</th>\n",
       "      <td>8.533333</td>\n",
       "      <td>1.0</td>\n",
       "      <td>8.533333</td>\n",
       "      <td>16.0000</td>\n",
       "      <td>0.000527</td>\n",
       "    </tr>\n",
       "    <tr>\n",
       "      <th>C(sun)</th>\n",
       "      <td>24.866667</td>\n",
       "      <td>2.0</td>\n",
       "      <td>12.433333</td>\n",
       "      <td>23.3125</td>\n",
       "      <td>0.000002</td>\n",
       "    </tr>\n",
       "    <tr>\n",
       "      <th>C(water):C(sun)</th>\n",
       "      <td>2.466667</td>\n",
       "      <td>2.0</td>\n",
       "      <td>1.233333</td>\n",
       "      <td>2.3125</td>\n",
       "      <td>0.120667</td>\n",
       "    </tr>\n",
       "    <tr>\n",
       "      <th>Residual</th>\n",
       "      <td>12.800000</td>\n",
       "      <td>24.0</td>\n",
       "      <td>0.533333</td>\n",
       "      <td>NaN</td>\n",
       "      <td>NaN</td>\n",
       "    </tr>\n",
       "  </tbody>\n",
       "</table>\n",
       "</div>"
      ],
      "text/plain": [
       "                    sum_sq    df    mean_sq        F    PR(>F)\n",
       "C(water)          8.533333   1.0   8.533333  16.0000  0.000527\n",
       "C(sun)           24.866667   2.0  12.433333  23.3125  0.000002\n",
       "C(water):C(sun)   2.466667   2.0   1.233333   2.3125  0.120667\n",
       "Residual         12.800000  24.0   0.533333      NaN       NaN"
      ]
     },
     "execution_count": 21,
     "metadata": {},
     "output_type": "execute_result"
    }
   ],
   "source": [
    "anova_table"
   ]
  },
  {
   "cell_type": "code",
   "execution_count": 22,
   "id": "dc2be159",
   "metadata": {},
   "outputs": [],
   "source": [
    "F = anova_table[\"F\"][:-1].to_numpy()"
   ]
  },
  {
   "cell_type": "code",
   "execution_count": 23,
   "id": "aab55235",
   "metadata": {},
   "outputs": [],
   "source": [
    "P = anova_table[\"PR(>F)\"][:-1].to_numpy()"
   ]
  },
  {
   "cell_type": "code",
   "execution_count": 24,
   "id": "3d900318",
   "metadata": {},
   "outputs": [
    {
     "name": "stdout",
     "output_type": "stream",
     "text": [
      "F_column>=3.4028261053501945: True \n",
      "p>alpha: False\n",
      "\n",
      "F_row>=4.259677272690231: True \n",
      "p>alpha: False\n",
      "\n",
      "F_interaction>=3.4028261053501945: False \n",
      "p>alpha: True\n",
      "\n"
     ]
    }
   ],
   "source": [
    "for i,k in enumerate(F_criticals.keys()):\n",
    "    print(f\"F_{k}>={F_criticals[k]}:\",F[i]>=F_criticals[k],\"\\np>alpha:\",P[i]>alpha)\n",
    "    print()"
   ]
  },
  {
   "cell_type": "markdown",
   "id": "212152ed",
   "metadata": {},
   "source": [
    "### Decision\n",
    "Reject the first two null hypotheses at the .05 level of significance and retain the third null hypothesis.\n",
    "\n",
    "### Interpretation\n",
    "Both the water and sunlight have statistically significant effect on plant height and there is no significant interaction effect between sunlight exposure and watering frequency."
   ]
  }
 ],
 "metadata": {
  "kernelspec": {
   "display_name": "Python 3 (ipykernel)",
   "language": "python",
   "name": "python3"
  },
  "language_info": {
   "codemirror_mode": {
    "name": "ipython",
    "version": 3
   },
   "file_extension": ".py",
   "mimetype": "text/x-python",
   "name": "python",
   "nbconvert_exporter": "python",
   "pygments_lexer": "ipython3",
   "version": "3.10.9"
  }
 },
 "nbformat": 4,
 "nbformat_minor": 5
}
